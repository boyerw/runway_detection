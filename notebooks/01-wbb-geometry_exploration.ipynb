{
 "cells": [
  {
   "cell_type": "code",
   "execution_count": 6,
   "metadata": {},
   "outputs": [],
   "source": [
    "import numpy as np\n",
    "import geopandas as gpd\n",
    "import shapely"
   ]
  },
  {
   "cell_type": "code",
   "execution_count": 3,
   "metadata": {},
   "outputs": [
    {
     "name": "stdout",
     "output_type": "stream",
     "text": [
      "/Users/wyattboyer/gitRepos/runway_detection/notebooks\n"
     ]
    }
   ],
   "source": [
    "!pwd"
   ]
  },
  {
   "cell_type": "code",
   "execution_count": 5,
   "metadata": {},
   "outputs": [
    {
     "data": {
      "text/html": [
       "<div>\n",
       "<style scoped>\n",
       "    .dataframe tbody tr th:only-of-type {\n",
       "        vertical-align: middle;\n",
       "    }\n",
       "\n",
       "    .dataframe tbody tr th {\n",
       "        vertical-align: top;\n",
       "    }\n",
       "\n",
       "    .dataframe thead th {\n",
       "        text-align: right;\n",
       "    }\n",
       "</style>\n",
       "<table border=\"1\" class=\"dataframe\">\n",
       "  <thead>\n",
       "    <tr style=\"text-align: right;\">\n",
       "      <th></th>\n",
       "      <th>id</th>\n",
       "      <th>yr</th>\n",
       "      <th>largo</th>\n",
       "      <th>Activo</th>\n",
       "      <th>geometry</th>\n",
       "    </tr>\n",
       "  </thead>\n",
       "  <tbody>\n",
       "    <tr>\n",
       "      <th>0</th>\n",
       "      <td>1</td>\n",
       "      <td>2023</td>\n",
       "      <td>968.918</td>\n",
       "      <td>0</td>\n",
       "      <td>LINESTRING (-70.08929 -13.12984, -70.08053 -13...</td>\n",
       "    </tr>\n",
       "    <tr>\n",
       "      <th>1</th>\n",
       "      <td>2</td>\n",
       "      <td>2022</td>\n",
       "      <td>1105.491</td>\n",
       "      <td>0</td>\n",
       "      <td>LINESTRING (-69.16744 -13.62068, -69.17286 -13...</td>\n",
       "    </tr>\n",
       "    <tr>\n",
       "      <th>2</th>\n",
       "      <td>3</td>\n",
       "      <td>2015</td>\n",
       "      <td>985.018</td>\n",
       "      <td>0</td>\n",
       "      <td>LINESTRING (-69.14225 -13.69451, -69.1419 -13....</td>\n",
       "    </tr>\n",
       "    <tr>\n",
       "      <th>3</th>\n",
       "      <td>4</td>\n",
       "      <td>2020</td>\n",
       "      <td>681.914</td>\n",
       "      <td>0</td>\n",
       "      <td>LINESTRING (-69.07844 -13.7879, -69.08404 -13....</td>\n",
       "    </tr>\n",
       "    <tr>\n",
       "      <th>4</th>\n",
       "      <td>5</td>\n",
       "      <td>2020</td>\n",
       "      <td>699.552</td>\n",
       "      <td>0</td>\n",
       "      <td>LINESTRING (-69.07838 -13.78788, -69.08279 -13...</td>\n",
       "    </tr>\n",
       "  </tbody>\n",
       "</table>\n",
       "</div>"
      ],
      "text/plain": [
       "   id    yr     largo  Activo  \\\n",
       "0   1  2023   968.918       0   \n",
       "1   2  2022  1105.491       0   \n",
       "2   3  2015   985.018       0   \n",
       "3   4  2020   681.914       0   \n",
       "4   5  2020   699.552       0   \n",
       "\n",
       "                                            geometry  \n",
       "0  LINESTRING (-70.08929 -13.12984, -70.08053 -13...  \n",
       "1  LINESTRING (-69.16744 -13.62068, -69.17286 -13...  \n",
       "2  LINESTRING (-69.14225 -13.69451, -69.1419 -13....  \n",
       "3  LINESTRING (-69.07844 -13.7879, -69.08404 -13....  \n",
       "4  LINESTRING (-69.07838 -13.78788, -69.08279 -13...  "
      ]
     },
     "execution_count": 5,
     "metadata": {},
     "output_type": "execute_result"
    }
   ],
   "source": [
    "local_path = '/Users/wyattboyer/gitRepos/runway_detection/'\n",
    "runways = gpd.read_file(local_path + 'data/raw/pac_2024_training/pac_2024_training.shp')\n",
    "runways.head()"
   ]
  },
  {
   "cell_type": "code",
   "execution_count": 16,
   "metadata": {},
   "outputs": [
    {
     "name": "stdout",
     "output_type": "stream",
     "text": [
      "Length of runway: 991.8696577313436\n",
      "Length of runway: 1137.2789579699063\n",
      "Length of runway: 1015.4157593192749\n",
      "Length of runway: 699.6481309680601\n",
      "Length of runway: 719.2259646233739\n"
     ]
    }
   ],
   "source": [
    "# Reproject to EPSG:3857 Web Mercator Projection\n",
    "for len in runways.geometry[0:5].to_crs(3857).length:\n",
    "    print(f\"Length of runway: {len}\")"
   ]
  },
  {
   "cell_type": "code",
   "execution_count": 21,
   "metadata": {},
   "outputs": [
    {
     "name": "stdout",
     "output_type": "stream",
     "text": [
      "Average projection error: -16.3 meters\n"
     ]
    }
   ],
   "source": [
    "print(f\"Average projection error: {np.round(np.average(runways.largo.subtract(runways.geometry.to_crs(3857).length)), 2)} meters\")"
   ]
  },
  {
   "cell_type": "code",
   "execution_count": 15,
   "metadata": {},
   "outputs": [
    {
     "name": "stdout",
     "output_type": "stream",
     "text": [
      "Length of runway: 991.8696577313436\n",
      "Length of runway: 1137.2789579699063\n",
      "Length of runway: 1015.4157593192749\n",
      "Length of runway: 699.6481309680601\n",
      "Length of runway: 719.2259646233739\n"
     ]
    }
   ],
   "source": [
    "for len in runways.geometry[0:5].to_crs(3857).length:\n",
    "    print(f\"Length of runway: {len}\")"
   ]
  },
  {
   "cell_type": "code",
   "execution_count": 11,
   "metadata": {},
   "outputs": [
    {
     "name": "stdout",
     "output_type": "stream",
     "text": [
      "LINESTRING (-70.08928656863503 -13.129844039931504, -70.08052787039317 -13.128251134052485, -70.08052787039317 -13.128251134052485)\n",
      "LINESTRING (-69.16744237255283 -13.620679758207931, -69.1728593987747 -13.612261251288524)\n",
      "LINESTRING (-69.14224792429687 -13.694510447986984, -69.14189616934739 -13.685654549844925)\n",
      "LINESTRING (-69.07843632939438 -13.787902019520923, -69.08404112675193 -13.7906640035937)\n",
      "LINESTRING (-69.07838092777308 -13.787884084452626, -69.08279459027209 -13.78330162936446)\n"
     ]
    }
   ],
   "source": [
    "for line in runways.geometry[0:5]:\n",
    "    print(line)"
   ]
  },
  {
   "cell_type": "code",
   "execution_count": null,
   "metadata": {},
   "outputs": [],
   "source": []
  },
  {
   "cell_type": "code",
   "execution_count": 8,
   "metadata": {},
   "outputs": [
    {
     "name": "stdout",
     "output_type": "stream",
     "text": [
      "0.0\n"
     ]
    }
   ],
   "source": [
    "print(np.average(runways.largo == shapely.length(runways.geometry)))"
   ]
  },
  {
   "cell_type": "code",
   "execution_count": 13,
   "metadata": {},
   "outputs": [
    {
     "data": {
      "text/plain": [
       "<Geographic 2D CRS: EPSG:4326>\n",
       "Name: WGS 84\n",
       "Axis Info [ellipsoidal]:\n",
       "- Lat[north]: Geodetic latitude (degree)\n",
       "- Lon[east]: Geodetic longitude (degree)\n",
       "Area of Use:\n",
       "- name: World.\n",
       "- bounds: (-180.0, -90.0, 180.0, 90.0)\n",
       "Datum: World Geodetic System 1984 ensemble\n",
       "- Ellipsoid: WGS 84\n",
       "- Prime Meridian: Greenwich"
      ]
     },
     "execution_count": 13,
     "metadata": {},
     "output_type": "execute_result"
    }
   ],
   "source": [
    "runways.crs"
   ]
  },
  {
   "cell_type": "code",
   "execution_count": null,
   "metadata": {},
   "outputs": [],
   "source": []
  }
 ],
 "metadata": {
  "kernelspec": {
   "display_name": "runway_detection",
   "language": "python",
   "name": "python3"
  },
  "language_info": {
   "codemirror_mode": {
    "name": "ipython",
    "version": 3
   },
   "file_extension": ".py",
   "mimetype": "text/x-python",
   "name": "python",
   "nbconvert_exporter": "python",
   "pygments_lexer": "ipython3",
   "version": "3.10.14"
  }
 },
 "nbformat": 4,
 "nbformat_minor": 2
}
